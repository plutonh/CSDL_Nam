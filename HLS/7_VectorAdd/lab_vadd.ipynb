{
 "cells": [
  {
   "cell_type": "markdown",
   "metadata": {},
   "source": [
    "# Vector adder implementation on PYNQ-Z2 Board"
   ]
  },
  {
   "cell_type": "code",
   "execution_count": 1,
   "metadata": {},
   "outputs": [
    {
     "data": {
      "application/javascript": [
       "\n",
       "require(['notebook/js/codecell'], function(codecell) {\n",
       "  codecell.CodeCell.options_default.highlight_modes[\n",
       "      'magic_text/x-csrc'] = {'reg':[/^%%microblaze/]};\n",
       "  Jupyter.notebook.events.one('kernel_ready.Kernel', function(){\n",
       "      Jupyter.notebook.get_cells().map(function(cell){\n",
       "          if (cell.cell_type == 'code'){ cell.auto_highlight(); } }) ;\n",
       "  });\n",
       "});\n"
      ]
     },
     "metadata": {},
     "output_type": "display_data"
    },
    {
     "data": {
      "text/plain": [
       "{'vadd_0': {'addr_range': 65536,\n",
       "  'device': <pynq.pl_server.device.XlnkDevice at 0xb03015d0>,\n",
       "  'driver': pynq.overlay.DefaultIP,\n",
       "  'fullpath': 'vadd_0',\n",
       "  'gpio': {},\n",
       "  'interrupts': {},\n",
       "  'mem_id': 's_axi_CONTROL_BUS',\n",
       "  'parameters': {'C_M_AXI_A_PORT_ADDR_WIDTH': '32',\n",
       "   'C_M_AXI_A_PORT_ARUSER_WIDTH': '1',\n",
       "   'C_M_AXI_A_PORT_AWUSER_WIDTH': '1',\n",
       "   'C_M_AXI_A_PORT_BUSER_WIDTH': '1',\n",
       "   'C_M_AXI_A_PORT_CACHE_VALUE': '\"0011\"',\n",
       "   'C_M_AXI_A_PORT_DATA_WIDTH': '32',\n",
       "   'C_M_AXI_A_PORT_ENABLE_ID_PORTS': 'false',\n",
       "   'C_M_AXI_A_PORT_ENABLE_USER_PORTS': 'false',\n",
       "   'C_M_AXI_A_PORT_ID_WIDTH': '1',\n",
       "   'C_M_AXI_A_PORT_PROT_VALUE': '\"000\"',\n",
       "   'C_M_AXI_A_PORT_RUSER_WIDTH': '1',\n",
       "   'C_M_AXI_A_PORT_USER_VALUE': '0x00000000',\n",
       "   'C_M_AXI_A_PORT_WUSER_WIDTH': '1',\n",
       "   'C_M_AXI_B_PORT_ADDR_WIDTH': '32',\n",
       "   'C_M_AXI_B_PORT_ARUSER_WIDTH': '1',\n",
       "   'C_M_AXI_B_PORT_AWUSER_WIDTH': '1',\n",
       "   'C_M_AXI_B_PORT_BUSER_WIDTH': '1',\n",
       "   'C_M_AXI_B_PORT_CACHE_VALUE': '\"0011\"',\n",
       "   'C_M_AXI_B_PORT_DATA_WIDTH': '32',\n",
       "   'C_M_AXI_B_PORT_ENABLE_ID_PORTS': 'false',\n",
       "   'C_M_AXI_B_PORT_ENABLE_USER_PORTS': 'false',\n",
       "   'C_M_AXI_B_PORT_ID_WIDTH': '1',\n",
       "   'C_M_AXI_B_PORT_PROT_VALUE': '\"000\"',\n",
       "   'C_M_AXI_B_PORT_RUSER_WIDTH': '1',\n",
       "   'C_M_AXI_B_PORT_USER_VALUE': '0x00000000',\n",
       "   'C_M_AXI_B_PORT_WUSER_WIDTH': '1',\n",
       "   'C_M_AXI_C_PORT_ADDR_WIDTH': '32',\n",
       "   'C_M_AXI_C_PORT_ARUSER_WIDTH': '1',\n",
       "   'C_M_AXI_C_PORT_AWUSER_WIDTH': '1',\n",
       "   'C_M_AXI_C_PORT_BUSER_WIDTH': '1',\n",
       "   'C_M_AXI_C_PORT_CACHE_VALUE': '\"0011\"',\n",
       "   'C_M_AXI_C_PORT_DATA_WIDTH': '32',\n",
       "   'C_M_AXI_C_PORT_ENABLE_ID_PORTS': 'false',\n",
       "   'C_M_AXI_C_PORT_ENABLE_USER_PORTS': 'false',\n",
       "   'C_M_AXI_C_PORT_ID_WIDTH': '1',\n",
       "   'C_M_AXI_C_PORT_PROT_VALUE': '\"000\"',\n",
       "   'C_M_AXI_C_PORT_RUSER_WIDTH': '1',\n",
       "   'C_M_AXI_C_PORT_USER_VALUE': '0x00000000',\n",
       "   'C_M_AXI_C_PORT_WUSER_WIDTH': '1',\n",
       "   'C_S_AXI_CONTROL_BUS_ADDR_WIDTH': '6',\n",
       "   'C_S_AXI_CONTROL_BUS_BASEADDR': '0x40000000',\n",
       "   'C_S_AXI_CONTROL_BUS_DATA_WIDTH': '32',\n",
       "   'C_S_AXI_CONTROL_BUS_HIGHADDR': '0x4000FFFF',\n",
       "   'Component_Name': 'design_1_vadd_0_0',\n",
       "   'EDK_IPTYPE': 'PERIPHERAL',\n",
       "   'II': 'x',\n",
       "   'clk_period': '10',\n",
       "   'combinational': '0',\n",
       "   'latency': '3104',\n",
       "   'machine': '64'},\n",
       "  'phys_addr': 1073741824,\n",
       "  'registers': {'CTRL': {'access': 'read-write',\n",
       "    'address_offset': 0,\n",
       "    'description': 'Control signals',\n",
       "    'fields': {'AP_DONE': {'access': 'read-only',\n",
       "      'bit_offset': 1,\n",
       "      'bit_width': 1,\n",
       "      'description': 'Control signals'},\n",
       "     'AP_IDLE': {'access': 'read-only',\n",
       "      'bit_offset': 2,\n",
       "      'bit_width': 1,\n",
       "      'description': 'Control signals'},\n",
       "     'AP_READY': {'access': 'read-only',\n",
       "      'bit_offset': 3,\n",
       "      'bit_width': 1,\n",
       "      'description': 'Control signals'},\n",
       "     'AP_START': {'access': 'read-write',\n",
       "      'bit_offset': 0,\n",
       "      'bit_width': 1,\n",
       "      'description': 'Control signals'},\n",
       "     'AUTO_RESTART': {'access': 'read-write',\n",
       "      'bit_offset': 7,\n",
       "      'bit_width': 1,\n",
       "      'description': 'Control signals'},\n",
       "     'RESERVED_1': {'access': 'read-only',\n",
       "      'bit_offset': 4,\n",
       "      'bit_width': 3,\n",
       "      'description': 'Control signals'},\n",
       "     'RESERVED_2': {'access': 'read-only',\n",
       "      'bit_offset': 8,\n",
       "      'bit_width': 1,\n",
       "      'description': 'Control signals'},\n",
       "     'RESERVED_3': {'access': 'read-only',\n",
       "      'bit_offset': 9,\n",
       "      'bit_width': 1,\n",
       "      'description': 'Control signals'},\n",
       "     'RESERVED_4': {'access': 'read-only',\n",
       "      'bit_offset': 10,\n",
       "      'bit_width': 22,\n",
       "      'description': 'Control signals'}},\n",
       "    'size': 32},\n",
       "   'GIER': {'access': 'read-write',\n",
       "    'address_offset': 4,\n",
       "    'description': 'Global Interrupt Enable Register',\n",
       "    'fields': {'Enable': {'access': 'read-write',\n",
       "      'bit_offset': 0,\n",
       "      'bit_width': 1,\n",
       "      'description': 'Global Interrupt Enable Register'},\n",
       "     'RESERVED': {'access': 'read-only',\n",
       "      'bit_offset': 1,\n",
       "      'bit_width': 31,\n",
       "      'description': 'Global Interrupt Enable Register'}},\n",
       "    'size': 32},\n",
       "   'IP_IER': {'access': 'read-write',\n",
       "    'address_offset': 8,\n",
       "    'description': 'IP Interrupt Enable Register',\n",
       "    'fields': {'CHAN0_INT_EN': {'access': 'read-write',\n",
       "      'bit_offset': 0,\n",
       "      'bit_width': 1,\n",
       "      'description': 'IP Interrupt Enable Register'},\n",
       "     'CHAN1_INT_EN': {'access': 'read-write',\n",
       "      'bit_offset': 1,\n",
       "      'bit_width': 1,\n",
       "      'description': 'IP Interrupt Enable Register'},\n",
       "     'RESERVED': {'access': 'read-only',\n",
       "      'bit_offset': 2,\n",
       "      'bit_width': 30,\n",
       "      'description': 'IP Interrupt Enable Register'}},\n",
       "    'size': 32},\n",
       "   'IP_ISR': {'access': 'read-write',\n",
       "    'address_offset': 12,\n",
       "    'description': 'IP Interrupt Status Register',\n",
       "    'fields': {'CHAN0_INT_ST': {'access': 'read-only',\n",
       "      'bit_offset': 0,\n",
       "      'bit_width': 1,\n",
       "      'description': 'IP Interrupt Status Register'},\n",
       "     'CHAN1_INT_ST': {'access': 'read-only',\n",
       "      'bit_offset': 1,\n",
       "      'bit_width': 1,\n",
       "      'description': 'IP Interrupt Status Register'},\n",
       "     'RESERVED': {'access': 'read-only',\n",
       "      'bit_offset': 2,\n",
       "      'bit_width': 30,\n",
       "      'description': 'IP Interrupt Status Register'}},\n",
       "    'size': 32},\n",
       "   'a': {'access': 'write-only',\n",
       "    'address_offset': 16,\n",
       "    'description': 'Data signal of a',\n",
       "    'fields': {'a': {'access': 'write-only',\n",
       "      'bit_offset': 0,\n",
       "      'bit_width': 32,\n",
       "      'description': 'Data signal of a'}},\n",
       "    'size': 32},\n",
       "   'b': {'access': 'write-only',\n",
       "    'address_offset': 24,\n",
       "    'description': 'Data signal of b',\n",
       "    'fields': {'b': {'access': 'write-only',\n",
       "      'bit_offset': 0,\n",
       "      'bit_width': 32,\n",
       "      'description': 'Data signal of b'}},\n",
       "    'size': 32},\n",
       "   'c': {'access': 'write-only',\n",
       "    'address_offset': 32,\n",
       "    'description': 'Data signal of c',\n",
       "    'fields': {'c': {'access': 'write-only',\n",
       "      'bit_offset': 0,\n",
       "      'bit_width': 32,\n",
       "      'description': 'Data signal of c'}},\n",
       "    'size': 32}},\n",
       "  'state': None,\n",
       "  'type': 'xilinx.com:hls:vadd:1.0'}}"
      ]
     },
     "execution_count": 1,
     "metadata": {},
     "output_type": "execute_result"
    }
   ],
   "source": [
    "from pynq import Overlay\n",
    "from pynq import allocate\n",
    "import numpy as np\n",
    "\n",
    "ol = Overlay('/home/xilinx/jupyter_notebooks/lab01_vadd/overlays/vadd.bit')\n",
    "ol.ip_dict"
   ]
  },
  {
   "cell_type": "code",
   "execution_count": 2,
   "metadata": {},
   "outputs": [
    {
     "data": {
      "text/plain": [
       "dict_keys(['vadd_0'])"
      ]
     },
     "execution_count": 2,
     "metadata": {},
     "output_type": "execute_result"
    }
   ],
   "source": [
    "# ip's key check\n",
    "ol.ip_dict.keys()"
   ]
  },
  {
   "cell_type": "code",
   "execution_count": 3,
   "metadata": {},
   "outputs": [],
   "source": [
    "# vadd setting\n",
    "vadd_ip = ol.vadd_0"
   ]
  },
  {
   "cell_type": "code",
   "execution_count": 4,
   "metadata": {
    "scrolled": false
   },
   "outputs": [
    {
     "data": {
      "text/plain": [
       "\"\\nHW address\\nCan not check in jupyter\\nlocation : (vitis project) 'solution1/impl/misc/drivers/vadd_v1_0/src/xvadd_hw.h'\\n\\n// CONTROL_BUS\\n// 0x00 : Control signals\\n//        bit 0  - ap_start (Read/Write/COH)\\n//        bit 1  - ap_done (Read/COR)\\n//        bit 2  - ap_idle (Read)\\n//        bit 3  - ap_ready (Read/COR)\\n//        bit 7  - auto_restart (Read/Write)\\n//        others - reserved\\n\\n// 0x10 : Data signal of a\\n//        bit 31~0 - a[31:0] (Read/Write)\\n// 0x18 : Data signal of b\\n//        bit 31~0 - b[31:0] (Read/Write)\\n\\n// 0x20 : Data signal of c\\n//        bit 31~0 - c[31:0] (Read/Write)\\n\""
      ]
     },
     "execution_count": 4,
     "metadata": {},
     "output_type": "execute_result"
    }
   ],
   "source": [
    "'''\n",
    "HW address\n",
    "Can not check in jupyter\n",
    "location : (vitis project) 'solution1/impl/misc/drivers/vadd_v1_0/src/xvadd_hw.h'\n",
    "\n",
    "// CONTROL_BUS\n",
    "// 0x00 : Control signals\n",
    "//        bit 0  - ap_start (Read/Write/COH)\n",
    "//        bit 1  - ap_done (Read/COR)\n",
    "//        bit 2  - ap_idle (Read)\n",
    "//        bit 3  - ap_ready (Read/COR)\n",
    "//        bit 7  - auto_restart (Read/Write)\n",
    "//        others - reserved\n",
    "\n",
    "// 0x10 : Data signal of a\n",
    "//        bit 31~0 - a[31:0] (Read/Write)\n",
    "// 0x18 : Data signal of b\n",
    "//        bit 31~0 - b[31:0] (Read/Write)\n",
    "\n",
    "// 0x20 : Data signal of c\n",
    "//        bit 31~0 - c[31:0] (Read/Write)\n",
    "'''"
   ]
  },
  {
   "cell_type": "code",
   "execution_count": 5,
   "metadata": {},
   "outputs": [],
   "source": [
    "# predefined value\n",
    "VECTOR_LEN = 1024\n",
    "\n",
    "# allocate the physical memory space\n",
    "input_a = allocate(shape = (VECTOR_LEN), dtype=np.float32)\n",
    "input_b = allocate(shape = (VECTOR_LEN), dtype=np.float32)\n",
    "output_c= allocate(shape = (VECTOR_LEN), dtype=np.float32)"
   ]
  },
  {
   "cell_type": "code",
   "execution_count": 6,
   "metadata": {},
   "outputs": [],
   "source": [
    "# initialize the input and output\n",
    "a = np.random.rand(VECTOR_LEN)\n",
    "b = np.random.rand(VECTOR_LEN)\n",
    "c = np.zeros(VECTOR_LEN)"
   ]
  },
  {
   "cell_type": "code",
   "execution_count": 7,
   "metadata": {},
   "outputs": [],
   "source": [
    "# write the input\n",
    "input_a[:] = a[:]\n",
    "input_b[:] = b[:]\n",
    "output_c[:] = c[:]"
   ]
  },
  {
   "cell_type": "code",
   "execution_count": 8,
   "metadata": {},
   "outputs": [
    {
     "name": "stdout",
     "output_type": "stream",
     "text": [
      "Inputs are same\n",
      "Inputs are same\n"
     ]
    }
   ],
   "source": [
    "def diff(vector_a, vector_b):\n",
    "    correct = True\n",
    "    assert vector_a.size == vector_b.size, 'args shape are must same'\n",
    "    for a, b in  zip(vector_a, vector_b):\n",
    "        if np.abs(a - b) > 1e-3:\n",
    "            correct = False\n",
    "    if correct :\n",
    "        print('Inputs are same')\n",
    "    else :\n",
    "        print('Inputs are not same')\n",
    "\n",
    "diff(input_a, a)\n",
    "diff(input_b, b)"
   ]
  },
  {
   "cell_type": "code",
   "execution_count": 9,
   "metadata": {},
   "outputs": [
    {
     "name": "stdout",
     "output_type": "stream",
     "text": [
      "402952192\n",
      "402956288\n",
      "402960384\n"
     ]
    }
   ],
   "source": [
    "# check the allocated address\n",
    "print(input_a.device_address)\n",
    "print(input_b.device_address)\n",
    "print(output_c.device_address)"
   ]
  },
  {
   "cell_type": "code",
   "execution_count": 10,
   "metadata": {},
   "outputs": [],
   "source": [
    "# write the data to FPGA\n",
    "vadd_ip.write(0x10, input_a.device_address)\n",
    "vadd_ip.write(0x18, input_b.device_address)\n",
    "vadd_ip.write(0x20, output_c.device_address)"
   ]
  },
  {
   "cell_type": "code",
   "execution_count": 11,
   "metadata": {},
   "outputs": [],
   "source": [
    "# ap starts\n",
    "vadd_ip.write(0x00,1)"
   ]
  },
  {
   "cell_type": "code",
   "execution_count": 12,
   "metadata": {},
   "outputs": [
    {
     "name": "stdout",
     "output_type": "stream",
     "text": [
      "Inputs are same\n"
     ]
    }
   ],
   "source": [
    "# referenc result\n",
    "c_ref = a + b\n",
    "\n",
    "# check the ouptut result\n",
    "diff(c_ref, output_c)"
   ]
  }
 ],
 "metadata": {
  "kernelspec": {
   "display_name": "Python 3",
   "language": "python",
   "name": "python3"
  },
  "language_info": {
   "codemirror_mode": {
    "name": "ipython",
    "version": 3
   },
   "file_extension": ".py",
   "mimetype": "text/x-python",
   "name": "python",
   "nbconvert_exporter": "python",
   "pygments_lexer": "ipython3",
   "version": "3.6.5"
  }
 },
 "nbformat": 4,
 "nbformat_minor": 2
}
